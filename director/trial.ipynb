{
 "cells": [
  {
   "attachments": {},
   "cell_type": "markdown",
   "metadata": {},
   "source": [
    "### IMPORT THE COMPONENTS"
   ]
  },
  {
   "cell_type": "code",
   "execution_count": 18,
   "metadata": {},
   "outputs": [],
   "source": [
    "import pandas as pd\n",
    "import numpy as np\n",
    "import matplotlib.pyplot as plt\n",
    "import mysql.connector"
   ]
  },
  {
   "attachments": {},
   "cell_type": "markdown",
   "metadata": {},
   "source": [
    "### CONNECT TO THE DATABASE"
   ]
  },
  {
   "cell_type": "code",
   "execution_count": 19,
   "metadata": {},
   "outputs": [
    {
     "name": "stdout",
     "output_type": "stream",
     "text": [
      "<mysql.connector.connection_cext.CMySQLConnection object at 0x000001FAD414C710>\n"
     ]
    }
   ],
   "source": [
    "conn = mysql.connector.connect(\n",
    "   host=\"localhost\",\n",
    "   port=3306,\n",
    "   user=\"admin\",\n",
    "   password=\"password\",\n",
    "   database=\"mda\"\n",
    ")\n",
    "\n",
    "print(conn)"
   ]
  },
  {
   "attachments": {},
   "cell_type": "markdown",
   "metadata": {},
   "source": [
    "### SELECT TABLES TO CONFIRM CONNECTION"
   ]
  },
  {
   "cell_type": "code",
   "execution_count": 20,
   "metadata": {},
   "outputs": [
    {
     "name": "stdout",
     "output_type": "stream",
     "text": [
      "('allocation',)\n",
      "('doctor',)\n",
      "('medicine',)\n",
      "('medicinetype',)\n",
      "('orders',)\n",
      "('patient',)\n",
      "('scenario',)\n"
     ]
    }
   ],
   "source": [
    "mycursor = conn.cursor()\n",
    "\n",
    "mycursor.execute(\"show tables\")\n",
    "\n",
    "myresult = mycursor.fetchall()\n",
    "\n",
    "for x in myresult:\n",
    "  print(x)"
   ]
  },
  {
   "attachments": {},
   "cell_type": "markdown",
   "metadata": {},
   "source": [
    "### TO ADD THE DATA TO A CSV"
   ]
  },
  {
   "attachments": {},
   "cell_type": "markdown",
   "metadata": {},
   "source": [
    "### ALLOCATION"
   ]
  },
  {
   "cell_type": "code",
   "execution_count": 21,
   "metadata": {},
   "outputs": [],
   "source": [
    "\n",
    "mycursor.execute(\"SELECT * FROM allocation\")\n",
    "\n",
    "allocate = mycursor.fetchall()\n",
    "\n",
    "df0 = pd.DataFrame(allocate)\n",
    "\n",
    "df0.to_csv(r\"C:\\xampp\\htdocs\\mda\\director\\csvfiles\\allocation.csv\",index = False)\n"
   ]
  },
  {
   "cell_type": "code",
   "execution_count": 22,
   "metadata": {},
   "outputs": [],
   "source": [
    "mycursor.execute(\"SELECT * FROM doctor\")\n",
    "\n",
    "doctor = mycursor.fetchall()\n",
    "\n",
    "df0 = pd.DataFrame(doctor)\n",
    "\n",
    "df0.to_csv(r\"C:\\xampp\\htdocs\\mda\\director\\csvfiles\\doctor.csv\",index = False)"
   ]
  },
  {
   "cell_type": "code",
   "execution_count": 23,
   "metadata": {},
   "outputs": [],
   "source": [
    "mycursor.execute(\"SELECT * FROM medicine\")\n",
    "\n",
    "medicine = mycursor.fetchall()\n",
    "\n",
    "df0 = pd.DataFrame(medicine)\n",
    "\n",
    "df0.to_csv(r\"C:\\xampp\\htdocs\\mda\\director\\csvfiles\\medicine.csv\",index = False)\n"
   ]
  },
  {
   "cell_type": "code",
   "execution_count": 24,
   "metadata": {},
   "outputs": [],
   "source": [
    "mycursor.execute(\"SELECT * FROM medicinetype\")\n",
    "\n",
    "medicinetype = mycursor.fetchall()\n",
    "\n",
    "df0 = pd.DataFrame(medicinetype)\n",
    "\n",
    "df0.to_csv(r\"C:\\xampp\\htdocs\\mda\\director\\csvfiles\\medicinetype.csv\",index = False)"
   ]
  },
  {
   "cell_type": "code",
   "execution_count": 25,
   "metadata": {},
   "outputs": [],
   "source": [
    "mycursor.execute(\"SELECT * FROM orders\")\n",
    "\n",
    "orders = mycursor.fetchall()\n",
    "\n",
    "df0 = pd.DataFrame(orders)\n",
    "\n",
    "df0.to_csv(r\"C:\\xampp\\htdocs\\mda\\director\\csvfiles\\orders.csv\",index = False)"
   ]
  },
  {
   "cell_type": "code",
   "execution_count": null,
   "metadata": {},
   "outputs": [],
   "source": [
    "mycursor.execute(\"SELECT * FROM patient\")\n",
    "\n",
    "patient = mycursor.fetchall()\n",
    "\n",
    "df0 = pd.DataFrame(patient)\n",
    "\n",
    "df0.to_csv(r\"C:\\xampp\\htdocs\\mda\\director\\csvfiles\\patient.csv\",index = False)"
   ]
  },
  {
   "cell_type": "code",
   "execution_count": null,
   "metadata": {},
   "outputs": [],
   "source": [
    "mycursor.execute(\"SELECT * FROM scenario\")\n",
    "\n",
    "scenario = mycursor.fetchall()\n",
    "\n",
    "df0 = pd.DataFrame(scenario)\n",
    "\n",
    "df0.to_csv(r\"C:\\xampp\\htdocs\\mda\\director\\csvfiles\\scenario.csv\",index = False)"
   ]
  }
 ],
 "metadata": {
  "kernelspec": {
   "display_name": "Python 3",
   "language": "python",
   "name": "python3"
  },
  "language_info": {
   "codemirror_mode": {
    "name": "ipython",
    "version": 3
   },
   "file_extension": ".py",
   "mimetype": "text/x-python",
   "name": "python",
   "nbconvert_exporter": "python",
   "pygments_lexer": "ipython3",
   "version": "3.11.1"
  },
  "orig_nbformat": 4
 },
 "nbformat": 4,
 "nbformat_minor": 2
}
