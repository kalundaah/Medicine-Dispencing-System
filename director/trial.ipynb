{
 "cells": [
  {
   "cell_type": "code",
   "execution_count": null,
   "metadata": {},
   "outputs": [],
   "source": []
  },
  {
   "attachments": {},
   "cell_type": "markdown",
   "metadata": {},
   "source": [
    "### IMPORT THE COMPONENTS"
   ]
  },
  {
   "cell_type": "code",
   "execution_count": 28,
   "metadata": {},
   "outputs": [],
   "source": [
    "import pandas as pd\n",
    "import numpy as np\n",
    "import matplotlib.pyplot as plt\n",
    "import mysql.connector"
   ]
  },
  {
   "attachments": {},
   "cell_type": "markdown",
   "metadata": {},
   "source": [
    "### CONNECT TO THE DATABASE"
   ]
  },
  {
   "cell_type": "code",
   "execution_count": 29,
   "metadata": {},
   "outputs": [
    {
     "name": "stdout",
     "output_type": "stream",
     "text": [
      "<mysql.connector.connection.MySQLConnection object at 0x000001F1B73FA810>\n"
     ]
    }
   ],
   "source": [
    "conn = mysql.connector.connect(\n",
    "   host=\"localhost\",\n",
    "   port=3306,\n",
    "   user=\"neville\",\n",
    "   password=\"1234\",\n",
    "   database=\"mda\"\n",
    ")\n",
    "\n",
    "print(conn)"
   ]
  },
  {
   "attachments": {},
   "cell_type": "markdown",
   "metadata": {},
   "source": [
    "### SELECT TABLES TO CONFIRM CONNECTION"
   ]
  },
  {
   "cell_type": "code",
   "execution_count": 30,
   "metadata": {},
   "outputs": [
    {
     "name": "stdout",
     "output_type": "stream",
     "text": [
      "('allocation',)\n",
      "('doctor',)\n",
      "('medicine',)\n",
      "('medicinetype',)\n",
      "('patient',)\n",
      "('scenario',)\n"
     ]
    }
   ],
   "source": [
    "mycursor = conn.cursor()\n",
    "\n",
    "mycursor.execute(\"show tables\")\n",
    "\n",
    "myresult = mycursor.fetchall()\n",
    "\n",
    "for x in myresult:\n",
    "  print(x)"
   ]
  },
  {
   "attachments": {},
   "cell_type": "markdown",
   "metadata": {},
   "source": [
    "### TO ADD THE DATA TO A CSV"
   ]
  },
  {
   "attachments": {},
   "cell_type": "markdown",
   "metadata": {},
   "source": [
    "### ALLOCATION"
   ]
  },
  {
   "cell_type": "code",
   "execution_count": 31,
   "metadata": {},
   "outputs": [],
   "source": [
    "\n",
    "mycursor.execute(\"SELECT * FROM allocation\")\n",
    "\n",
    "allocate = mycursor.fetchall()\n",
    "\n",
    "dfall = pd.DataFrame(allocate)\n",
    "\n",
    "dfall.to_csv(r\"C:\\xampp\\htdocs\\mda\\director\\csvfiles\\allocation.csv\",index = False)\n"
   ]
  },
  {
   "cell_type": "code",
   "execution_count": 32,
   "metadata": {},
   "outputs": [],
   "source": [
    "mycursor.execute(\"SELECT * FROM doctor\")\n",
    "\n",
    "doctor = mycursor.fetchall()\n",
    "\n",
    "dfdoc = pd.DataFrame(doctor)\n",
    "\n",
    "dfdoc.to_csv(r\"C:\\xampp\\htdocs\\mda\\director\\csvfiles\\doctor.csv\",index = False)"
   ]
  },
  {
   "cell_type": "code",
   "execution_count": 33,
   "metadata": {},
   "outputs": [],
   "source": [
    "mycursor.execute(\"SELECT * FROM medicine\")\n",
    "\n",
    "medicine = mycursor.fetchall()\n",
    "\n",
    "dfmed = pd.DataFrame(medicine)\n",
    "\n",
    "dfmed.to_csv(r\"C:\\xampp\\htdocs\\mda\\director\\csvfiles\\medicine.csv\",index = False)\n"
   ]
  },
  {
   "cell_type": "code",
   "execution_count": 34,
   "metadata": {},
   "outputs": [],
   "source": [
    "mycursor.execute(\"SELECT * FROM medicinetype\")\n",
    "\n",
    "medicinetype = mycursor.fetchall()\n",
    "\n",
    "dftype = pd.DataFrame(medicinetype)\n",
    "\n",
    "dftype.to_csv(r\"C:\\xampp\\htdocs\\mda\\director\\csvfiles\\medicinetype.csv\",index = False)"
   ]
  },
  {
   "cell_type": "code",
   "execution_count": 35,
   "metadata": {},
   "outputs": [],
   "source": [
    "mycursor.execute(\"SELECT * FROM patient\")\n",
    "\n",
    "patient = mycursor.fetchall()\n",
    "\n",
    "dfpat = pd.DataFrame(patient)\n",
    "\n",
    "dfpat.to_csv(r\"C:\\xampp\\htdocs\\mda\\director\\csvfiles\\patient.csv\",index = False)"
   ]
  },
  {
   "cell_type": "code",
   "execution_count": 36,
   "metadata": {},
   "outputs": [],
   "source": [
    "mycursor.execute(\"SELECT * FROM scenario\")\n",
    "\n",
    "scenario = mycursor.fetchall()\n",
    "\n",
    "dfsce = pd.DataFrame(scenario)\n",
    "\n",
    "dfsce.to_csv(r\"C:\\xampp\\htdocs\\mda\\director\\csvfiles\\scenario.csv\",index = False)"
   ]
  },
  {
   "attachments": {},
   "cell_type": "markdown",
   "metadata": {},
   "source": [
    "### Motive is to replace all rows with indexes with actual names of the key holders.\n"
   ]
  },
  {
   "cell_type": "code",
   "execution_count": null,
   "metadata": {},
   "outputs": [],
   "source": []
  }
 ],
 "metadata": {
  "kernelspec": {
   "display_name": "Python 3",
   "language": "python",
   "name": "python3"
  },
  "language_info": {
   "codemirror_mode": {
    "name": "ipython",
    "version": 3
   },
   "file_extension": ".py",
   "mimetype": "text/x-python",
   "name": "python",
   "nbconvert_exporter": "python",
   "pygments_lexer": "ipython3",
   "version": "3.11.3"
  },
  "orig_nbformat": 4
 },
 "nbformat": 4,
 "nbformat_minor": 2
}
